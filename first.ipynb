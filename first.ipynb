{
 "cells": [
  {
   "cell_type": "code",
   "execution_count": 3,
   "id": "80e1b798",
   "metadata": {},
   "outputs": [
    {
     "data": {
      "text/plain": [
       "True"
      ]
     },
     "execution_count": 3,
     "metadata": {},
     "output_type": "execute_result"
    }
   ],
   "source": [
    "from dotenv import load_dotenv\n",
    "load_dotenv()"
   ]
  },
  {
   "cell_type": "code",
   "execution_count": 5,
   "id": "837addd7",
   "metadata": {},
   "outputs": [
    {
     "data": {
      "text/plain": [
       "\"The invention of the light bulb is often attributed to **Thomas Edison**, but it's more accurate to say he **perfected and commercialized** it.\\n\\nHere's a more nuanced breakdown:\\n\\n*   **Early Inventors:** Many inventors before Edison had created various forms of electric lights. Some notable figures include:\\n\\n    *   **Humphry Davy:** Created the first electric light in 1802, an arc lamp.\\n    *   **Warren de la Rue:** Developed an efficient enclosed light bulb in 1840, but it was too expensive to commercialize.\\n    *   **Joseph Swan:** Independently developed a working light bulb around the same time as Edison.\\n\\n*   **Edison's Contribution:** Edison's key contributions were:\\n\\n    *   **A practical, long-lasting design:** He experimented with different filaments and eventually found that carbonized bamboo worked well.\\n    *   **A complete electrical system:** He didn't just invent the bulb; he also developed the generators, wiring, and other components needed to make electric lighting practical for homes and businesses.\\n    *   **Commercialization:** He established manufacturing and distribution systems to make electric lighting widely available.\\n\\n**In summary:** While Edison didn't invent the first electric light, he is credited with inventing the first commercially successful and practical incandescent light bulb and the system to support it. Joseph Swan also deserves significant credit for his independent invention of a similar bulb.\""
      ]
     },
     "execution_count": 5,
     "metadata": {},
     "output_type": "execute_result"
    },
    {
     "name": "stderr",
     "output_type": "stream",
     "text": [
      "c:\\Users\\karti\\AppData\\Local\\Programs\\Python\\Python312\\Lib\\site-packages\\pydantic\\main.py:426: UserWarning: Pydantic serializer warnings:\n",
      "  PydanticSerializationUnexpectedValue: Expected 9 fields but got 5 for type `Message` with value `Message(content=\"The invention of the light bulb i...unction_call=None, provider_specific_fields=None)` - serialized value may not be as expected.\n",
      "  PydanticSerializationUnexpectedValue: Expected `StreamingChoices` but got `Choices` with value `Choices(finish_reason='st...r_specific_fields=None))` - serialized value may not be as expected\n",
      "  return self.__pydantic_serializer__.to_python(\n"
     ]
    }
   ],
   "source": [
    "from crewai import LLM\n",
    "llm=LLM(\n",
    "    model=\"gemini/gemini-2.0-flash\",\n",
    "    temperature=0.1\n",
    ")\n",
    "llm.call(\"who invented bulb\")"
   ]
  },
  {
   "cell_type": "code",
   "execution_count": 7,
   "id": "4815580e",
   "metadata": {},
   "outputs": [],
   "source": [
    "from crewai import Agent,Task,Crew\n",
    "\n",
    "email_assiant=Agent(\n",
    "    role=\"email-assiant\",\n",
    "    goal=\"Improve emails and make them sound proffesional \",\n",
    "    backstory=\"A highly experienced email writer\",\n",
    "    verbose=True,\n",
    "    llm=llm\n",
    ")\n",
    "original_email=\"\"\"heyy team give me the draft of the finance report as soon as possible\n",
    "\n",
    "\"\"\"\n",
    "email_task=Task(\n",
    "    description=f\"\"\"Take the following  rough email and rewrite \n",
    "    Expand abbrevations:\n",
    "    '''{original_email}'''\n",
    "\"\"\",agent=email_assiant,\n",
    "expected_output=\"A proffesional e-mail written with proper formatting  and content\"\n",
    ")\n",
    "\n"
   ]
  },
  {
   "cell_type": "code",
   "execution_count": null,
   "id": "3254ffd0",
   "metadata": {},
   "outputs": [],
   "source": []
  }
 ],
 "metadata": {
  "kernelspec": {
   "display_name": "Python 3",
   "language": "python",
   "name": "python3"
  },
  "language_info": {
   "codemirror_mode": {
    "name": "ipython",
    "version": 3
   },
   "file_extension": ".py",
   "mimetype": "text/x-python",
   "name": "python",
   "nbconvert_exporter": "python",
   "pygments_lexer": "ipython3",
   "version": "3.12.0"
  }
 },
 "nbformat": 4,
 "nbformat_minor": 5
}
